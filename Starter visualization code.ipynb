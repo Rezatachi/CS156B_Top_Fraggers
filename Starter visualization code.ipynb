{
 "cells": [
  {
   "cell_type": "code",
   "execution_count": null,
   "metadata": {},
   "outputs": [],
   "source": [
    "import pandas as pd\n",
    "import numpy as np\n",
    "from matplotlib import pyplot as plt\n",
    "import cv2\n",
    "\n",
    "\n",
    "from IPython.display import Image, display\n",
    "from PIL import Image as Image1\n",
    "from scipy.ndimage import gaussian_filter, maximum_filter"
   ]
  },
  {
   "cell_type": "code",
   "execution_count": null,
   "metadata": {},
   "outputs": [],
   "source": [
    "labels_path = '/groups/CS156b/data/student_labels/train2023.csv'\n",
    "df = pd.read_csv(labels_path)\n",
    "PATHOLOGIES = ['No Finding', 'Enlarged Cardiomediastinum', 'Cardiomegaly',\n",
    "                'Lung Opacity', 'Pneumonia', 'Pleural Effusion', 'Pleural Other',\n",
    "                'Fracture', 'Support Devices']"
   ]
  },
  {
   "cell_type": "code",
   "execution_count": null,
   "metadata": {},
   "outputs": [],
   "source": [
    "def get_frontal(df):\n",
    "    return df.loc[df['Frontal/Lateral'] == 'Frontal']\n",
    "\n",
    "def get_lateral(df):\n",
    "    return df.loc[df['Frontal/Lateral'] == 'Lateral']\n",
    "\n",
    "def get_all_frontal(df):\n",
    "    '''returns 3d array of image paths separated by pathology and then by value'''\n",
    "    res = []\n",
    "    front = get_frontal(df)\n",
    "    for p in PATHOLOGIES:\n",
    "        res.append = get_pathology_separated(front, p)\n",
    "    return res\n",
    "\n",
    "def get_pathology(df, pathology, val):\n",
    "    '''Gets all rows where pathology is given value (-1,0,1)'''\n",
    "    return df.loc[df[pathology] == val]\n",
    "\n",
    "def get_pathology_separated(df, pathology):\n",
    "    '''Returns 2d array of pathology dataframes separated by value'''\n",
    "    return [get_pathology(df, pathology, -1), get_pathology(df, pathology, 0), get_pathology(df, pathology, 1)]\n",
    "\n",
    "def get_image_paths(df):\n",
    "    x = df['Path'].tolist()\n",
    "    paths = []\n",
    "    for s in x:\n",
    "        paths.append(\"/groups/CS156b/data/\" + s)\n",
    "    return paths\n",
    "\n",
    "def get_ages(df):\n",
    "    return df['Age'].tolist()\n",
    "\n",
    "def show_sample_images(paths, count):\n",
    "    '''Shows selection of random images from given paths'''\n",
    "    for i in range(min((count), len(paths))):\n",
    "        x = np.random.randint(len(paths))\n",
    "        display(Image(filename=paths[x], width=200))"
   ]
  }
 ],
 "metadata": {
  "kernelspec": {
   "display_name": "Python (env1)",
   "language": "python",
   "name": "env1"
  },
  "language_info": {
   "codemirror_mode": {
    "name": "ipython",
    "version": 3
   },
   "file_extension": ".py",
   "mimetype": "text/x-python",
   "name": "python",
   "nbconvert_exporter": "python",
   "pygments_lexer": "ipython3",
   "version": "3.11.2"
  }
 },
 "nbformat": 4,
 "nbformat_minor": 2
}
