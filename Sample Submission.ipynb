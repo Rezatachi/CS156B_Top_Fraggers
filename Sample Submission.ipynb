{
 "cells": [
  {
   "cell_type": "code",
   "execution_count": 9,
   "metadata": {},
   "outputs": [],
   "source": [
    "import csv\n",
    "import pandas as pd\n",
    "import numpy as np"
   ]
  },
  {
   "cell_type": "code",
   "execution_count": 11,
   "metadata": {},
   "outputs": [
    {
     "name": "stdout",
     "output_type": "stream",
     "text": [
      "(22597, 2)\n"
     ]
    }
   ],
   "source": [
    "path = '/groups/CS156b/2023/Top_Fraggers/test2023_path_to_id.csv'\n",
    "df = pd.read_csv(path)\n",
    "arr = np.loadtxt('/groups/CS156b/2023/Top_Fraggers/test2023_path_to_id.csv', delimiter=\",\", dtype=str)\n",
    "print(arr.shape)"
   ]
  },
  {
   "cell_type": "code",
   "execution_count": 20,
   "metadata": {},
   "outputs": [],
   "source": [
    "fields = ['id','no finding', 'enlarged cardiomediastinum', 'cardiomegaly',\n",
    "                'lung opacity', 'pneumonia', 'pleural effusion', 'pleural other',\n",
    "                'fracture', 'support devices']\n",
    "\n",
    "with open('sample_submission.csv', 'w') as csvfile: \n",
    "    # creating a csv writer object \n",
    "    csvwriter = csv.writer(csvfile) \n",
    "        \n",
    "    # writing the fields \n",
    "    csvwriter.writerow(fields) \n",
    "        \n",
    "    # writing the data rows \n",
    "    for row in arr[1:]:\n",
    "        csvwriter.writerow([row[0],1,1,1,1,1,1,1,1,1])"
   ]
  }
 ],
 "metadata": {
  "kernelspec": {
   "display_name": "Python 3",
   "language": "python",
   "name": "python3"
  },
  "language_info": {
   "codemirror_mode": {
    "name": "ipython",
    "version": 3
   },
   "file_extension": ".py",
   "mimetype": "text/x-python",
   "name": "python",
   "nbconvert_exporter": "python",
   "pygments_lexer": "ipython3",
   "version": "3.7.0"
  }
 },
 "nbformat": 4,
 "nbformat_minor": 2
}
